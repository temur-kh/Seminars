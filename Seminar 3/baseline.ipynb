{
 "cells": [
  {
   "cell_type": "code",
   "execution_count": 2,
   "metadata": {
    "collapsed": true
   },
   "outputs": [],
   "source": [
    "import pandas as pd\n",
    "import numpy as np\n",
    "\n",
    "from sklearn.linear_model import OrthogonalMatchingPursuit"
   ]
  },
  {
   "cell_type": "code",
   "execution_count": 3,
   "metadata": {
    "collapsed": true
   },
   "outputs": [],
   "source": [
    "train = pd.read_csv('data-train.csv', parse_dates=['Timestamp'])\n",
    "test = pd.read_csv('data-test.csv', parse_dates=['Timestamp'])"
   ]
  },
  {
   "cell_type": "code",
   "execution_count": 4,
   "metadata": {
    "collapsed": true
   },
   "outputs": [],
   "source": [
    "train_year = train.Timestamp.dt.year\n",
    "train_month = train.Timestamp.dt.month\n",
    "train_day = train.Timestamp.dt.day\n",
    "train_hour = train.Timestamp.dt.hour\n",
    "train_minute = train.Timestamp.dt.minute\n",
    "train_location = train.Location\n",
    "train_id = train.ID\n",
    "\n",
    "test_year = test.Timestamp.dt.year\n",
    "test_month = test.Timestamp.dt.month\n",
    "test_day = test.Timestamp.dt.day\n",
    "test_hour = test.Timestamp.dt.hour\n",
    "test_minute = test.Timestamp.dt.minute\n",
    "test_location = test.Location\n",
    "test_id = test.ID"
   ]
  },
  {
   "cell_type": "code",
   "execution_count": 5,
   "metadata": {
    "collapsed": true
   },
   "outputs": [],
   "source": [
    "train_features = pd.DataFrame({\n",
    "    'year': train_year,\n",
    "    'month': train_month,\n",
    "    'day': train_day,\n",
    "    'hour': train_hour,\n",
    "    #'minute': train_minute,\n",
    "    'location': train_location\n",
    "    #'id': train_id\n",
    "})\n",
    "\n",
    "test_features = pd.DataFrame({\n",
    "    'year': test_year,\n",
    "    'month': test_month,\n",
    "    'day': test_day,\n",
    "    'hour': test_hour,\n",
    "    #'minute': test_minute,\n",
    "    'location': test_location\n",
    "    #'id': test_id\n",
    "})"
   ]
  },
  {
   "cell_type": "code",
   "execution_count": 12,
   "metadata": {},
   "outputs": [],
   "source": [
    "clf = OrthogonalMatchingPursuit()\n",
    "clf.fit(train_features, train.Category)\n",
    "regression_result = np.round(clf.predict(test_features))\n",
    "\n",
    "predicted_categories = regression_result.astype('int')"
   ]
  },
  {
   "cell_type": "code",
   "execution_count": 14,
   "metadata": {
    "collapsed": true
   },
   "outputs": [],
   "source": [
    "pd.DataFrame({\n",
    "    'id': test.ID,\n",
    "    'category': predicted_categories\n",
    "}).to_csv('submission.csv', index=False)"
   ]
  },
  {
   "cell_type": "code",
   "execution_count": 13,
   "metadata": {},
   "outputs": [
    {
     "data": {
      "text/plain": [
       "0.67622648552480669"
      ]
     },
     "execution_count": 13,
     "metadata": {},
     "output_type": "execute_result"
    }
   ],
   "source": [
    "from sklearn.metrics import accuracy_score\n",
    "predicted = clf.predict(train_features)\n",
    "predicted = np.round(predicted)\n",
    "accuracy_score(train.Category, predicted)"
   ]
  },
  {
   "cell_type": "code",
   "execution_count": null,
   "metadata": {
    "collapsed": true
   },
   "outputs": [],
   "source": []
  }
 ],
 "metadata": {
  "kernelspec": {
   "display_name": "Python 3",
   "language": "python",
   "name": "python3"
  },
  "language_info": {
   "codemirror_mode": {
    "name": "ipython",
    "version": 3
   },
   "file_extension": ".py",
   "mimetype": "text/x-python",
   "name": "python",
   "nbconvert_exporter": "python",
   "pygments_lexer": "ipython3",
   "version": "3.6.1"
  }
 },
 "nbformat": 4,
 "nbformat_minor": 2
}
